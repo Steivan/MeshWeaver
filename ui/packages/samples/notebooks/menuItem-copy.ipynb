{
 "cells": [
  {
   "cell_type": "markdown",
   "source": [
    "# My notebook"
   ]
  },
  {
   "cell_type": "markdown",
   "source": [
    "## Subtitle"
   ]
  },
  {
   "cell_type": "code",
   "language": "typescript",
   "source": [
    "Controls.makeMenuItem()",
    "\n\t.withTitle(\"Say hello\")",
    "\n\t.withColor(\"#0171ff\")",
    "\n\t.withIcon(\"systemorph-fill\")",
    "\n\t.withClickAction(() => alert(\"Hello\"))",
    "\n\t.build()"
   ]
  }
 ]
}
